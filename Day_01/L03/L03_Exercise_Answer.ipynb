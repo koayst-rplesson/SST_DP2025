{
 "cells": [
  {
   "cell_type": "markdown",
   "id": "eaecca6d-5ac6-4b58-8c71-53247f548b82",
   "metadata": {},
   "source": [
    "<img src=\"https://www.rp.edu.sg/images/default-source/default-album/rp-logo.png\" width=\"200\" alt=\"Republic Polytechnic\"/>\n",
    "\n",
    "[![Open in Colab](https://colab.research.google.com/assets/colab-badge.svg)](https://colab.research.google.com/github/koayst-rplesson/SST_DP2025/blob/main/Day_01/L03/L03_Exercise_Answer.ipynb)"
   ]
  },
  {
   "cell_type": "markdown",
   "id": "f1ce15c7-2b09-4d67-80c7-60acc827a893",
   "metadata": {},
   "source": [
    "# Lesson 03 Exercise\n",
    "\n",
    "## User Registration and Order Processing System\n",
    "\n",
    "You will build a basic user registration and order system using Python and Pydantic. The system will consist of:\n",
    "\n",
    "1. `User Model`: Stores user details, including a validated email address.\n",
    "2. `Order Model`: Contains the user's ID, product name, quantity, and price per item, with checks to ensure valid quantity and price values.\n",
    "   \n",
    "You will:\n",
    "- Create Pydantic models for `User` and `Order` with field validations.\n",
    "- Use Pydantic’s `EmailStr` type to automatically validate email addresses.\n",
    "- Implement a method to calculate the total price of an order.\n",
    "- Serialize the `Order` model as JSON."
   ]
  },
  {
   "cell_type": "code",
   "execution_count": null,
   "id": "fa5ff74b-e72d-441b-993d-4c8dbc793a6e",
   "metadata": {},
   "outputs": [],
   "source": [
    "%%capture --no-stderr\n",
    "%pip install --quiet -U pydantic[email]"
   ]
  },
  {
   "cell_type": "markdown",
   "id": "ed52a224-31d3-403f-9fa4-d8473ba81a52",
   "metadata": {},
   "source": [
    "---"
   ]
  },
  {
   "cell_type": "markdown",
   "id": "62fac99c-0e54-4fd9-9233-22726f23545d",
   "metadata": {},
   "source": [
    "## Simple Project Code (Pydantic v2)"
   ]
  },
  {
   "cell_type": "code",
   "execution_count": 1,
   "id": "f7e87752-4446-4587-8cea-217b213099b1",
   "metadata": {},
   "outputs": [],
   "source": [
    "from pydantic import BaseModel, Field, EmailStr, field_validator, ConfigDict"
   ]
  },
  {
   "cell_type": "code",
   "execution_count": 2,
   "id": "cd21a24c-e674-428d-8bc6-43f7b1fff095",
   "metadata": {},
   "outputs": [],
   "source": [
    "# 1. User Model with Email Validation\n",
    "class User(BaseModel):\n",
    "    model_config = ConfigDict(from_attributes = True)\n",
    "    id: int\n",
    "    name: str = Field(min_length = 3, max_length = 50)\n",
    "\n",
    "    # Automatically validates email format\n",
    "    email: EmailStr  "
   ]
  },
  {
   "cell_type": "code",
   "execution_count": 3,
   "id": "d2f16c75-097f-4b1a-9297-896de1045a8a",
   "metadata": {},
   "outputs": [],
   "source": [
    "# 2. Order Model with Simple Quantity and Price Validation\n",
    "class Order(BaseModel):\n",
    "    # from_attributes=True allows a Pydantic model to be initialized from objects or dictionary-like structures \n",
    "    # that have attributes, rather than requiring standard dictionaries\n",
    "    model_config = ConfigDict(from_attributes = True)\n",
    "    order_id: int\n",
    "    user_id: int  # Links to the user placing the order\n",
    "    product_name: str\n",
    "    quantity: int = Field(gt = 0)  # Quantity must be positive\n",
    "    price_per_item: float = Field(gt = 0)  # Price per item must be positive\n",
    "\n",
    "    @field_validator(\"quantity\", \"price_per_item\")\n",
    "    def check_positive_values(cls, value):\n",
    "        if value <= 0:\n",
    "            raise ValueError(\"Quantity and price per item must be positive\")\n",
    "        return value\n",
    "\n",
    "    def calculate_total_price(self):\n",
    "        return self.quantity * self.price_per_item"
   ]
  },
  {
   "cell_type": "code",
   "execution_count": 4,
   "id": "483312cb-fd68-4c9d-b9b1-de9acdcbfb77",
   "metadata": {},
   "outputs": [
    {
     "name": "stdout",
     "output_type": "stream",
     "text": [
      "Order created successfully:\n",
      "{\n",
      "  \"order_id\": 101,\n",
      "  \"user_id\": 1,\n",
      "  \"product_name\": \"Keyboard\",\n",
      "  \"quantity\": 2,\n",
      "  \"price_per_item\": 49.99\n",
      "}\n",
      "Total price for the order: $99.98\n"
     ]
    }
   ],
   "source": [
    "# 3. Example Usage: Create User and Order\n",
    "\n",
    "# Create a User with valid data\n",
    "user = User(id=1, name = \"Alice\", email = \"alice@example.com\")\n",
    "\n",
    "# Create an Order with valid data\n",
    "try:\n",
    "    order = Order(\n",
    "        order_id = 101,\n",
    "        user_id = user.id,\n",
    "        product_name = \"Keyboard\",\n",
    "        quantity = 2,\n",
    "        price_per_item = 49.99\n",
    "    )\n",
    "    print(\"Order created successfully:\")\n",
    "    print(order.model_dump_json(indent = 2))  # Display order as JSON\n",
    "    print(f\"Total price for the order: ${order.calculate_total_price():.2f}\")\n",
    "except ValueError as e:\n",
    "    print(f\"Order creation failed: {e}\")"
   ]
  },
  {
   "cell_type": "code",
   "execution_count": 5,
   "id": "bd98a693-83c0-41f5-a552-d59120c283ee",
   "metadata": {},
   "outputs": [
    {
     "name": "stdout",
     "output_type": "stream",
     "text": [
      "Order creation failed: 1 validation error for Order\n",
      "quantity\n",
      "  Input should be greater than 0 [type=greater_than, input_value=0, input_type=int]\n",
      "    For further information visit https://errors.pydantic.dev/2.10/v/greater_than\n"
     ]
    }
   ],
   "source": [
    "# Create an Order with invalid data\n",
    "try:\n",
    "    order = Order(\n",
    "        order_id = 102,\n",
    "        user_id = user.id,\n",
    "        product_name = \"Keyboard\",\n",
    "        quantity = 0,\n",
    "        price_per_item = 49.99\n",
    "    )\n",
    "    print(\"Order created successfully:\")\n",
    "    print(order.model_dump_json(indent = 2))  # Display order as JSON\n",
    "    print(f\"Total price for the order: ${order.calculate_total_price():.2f}\")\n",
    "except ValueError as e:\n",
    "    print(f\"Order creation failed: {e}\")"
   ]
  },
  {
   "cell_type": "code",
   "execution_count": null,
   "id": "7fd38e01-8655-4d06-85a1-f2efb7de40a1",
   "metadata": {},
   "outputs": [],
   "source": []
  }
 ],
 "metadata": {
  "kernelspec": {
   "display_name": "Python 3 (ipykernel)",
   "language": "python",
   "name": "python3"
  },
  "language_info": {
   "codemirror_mode": {
    "name": "ipython",
    "version": 3
   },
   "file_extension": ".py",
   "mimetype": "text/x-python",
   "name": "python",
   "nbconvert_exporter": "python",
   "pygments_lexer": "ipython3",
   "version": "3.9.20"
  }
 },
 "nbformat": 4,
 "nbformat_minor": 5
}
