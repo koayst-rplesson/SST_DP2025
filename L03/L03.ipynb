{
 "cells": [
  {
   "cell_type": "markdown",
   "id": "256d3948",
   "metadata": {},
   "source": [
    "<img src=\"https://www.rp.edu.sg/images/default-source/default-album/rp-logo.png\" width=\"200\" alt=\"Republic Polytechnic\"/>\n",
    "\n",
    "[![Open in Colab](https://colab.research.google.com/assets/colab-badge.svg)](https://colab.research.google.com/github/koayst-rplesson/SST_DP2025/blob/main/L03/L03.ipynb)"
   ]
  },
  {
   "cell_type": "markdown",
   "id": "85e80164-bf97-4962-b425-7864a154dcaf",
   "metadata": {},
   "source": [
    "# Setup and Installation\n",
    "\n",
    "You can run this Jupyter notebook either on your local machine or run it at Google Colab.\n",
    "\n",
    "* For local machine, it is recommended to install Anaconda and create a new development environment called `SST_DP2025`.\n",
    "* Pip/Conda install the libraries stated below when necessary.\n",
    "---"
   ]
  },
  {
   "cell_type": "markdown",
   "id": "0c79ed1d-cc1e-4712-93ce-695496907dd7",
   "metadata": {},
   "source": [
    "# Lesson 03"
   ]
  },
  {
   "cell_type": "code",
   "execution_count": null,
   "id": "7ed1b0a2-966b-4224-afe4-6b31bf29ca63",
   "metadata": {},
   "outputs": [],
   "source": [
    "%%capture --no-stderr\n",
    "%pip install --quiet -U pydantic"
   ]
  },
  {
   "cell_type": "markdown",
   "id": "121d1dd9-913a-44a5-9869-9100a964d694",
   "metadata": {},
   "source": [
    "## Python Type Hints"
   ]
  },
  {
   "cell_type": "markdown",
   "id": "bf4d3de2-1fb8-4cd7-9c99-845168275745",
   "metadata": {},
   "source": [
    "### 1. Basic Type Hints\n",
    "Basic types like `int`, `float`, `str`, `bool` and `None` are straightforward hint.\n",
    "\n",
    "- `name` is annotated as a `str`. Type hints use a colon after a variable name, followed by the type.\n",
    "- The function `greeting` is expected to return a `str`. Return type is indicated after the `->` symbol."
   ]
  },
  {
   "cell_type": "code",
   "execution_count": 1,
   "id": "e3f8df87-760b-4746-bfb4-267d71bcec20",
   "metadata": {},
   "outputs": [],
   "source": [
    "def greeting(name: str) -> str:\n",
    "    return f\"Hello, {name}!\""
   ]
  },
  {
   "cell_type": "code",
   "execution_count": 2,
   "id": "7c1a900f-c1c0-453f-924d-24791ad5ac2e",
   "metadata": {},
   "outputs": [
    {
     "name": "stdout",
     "output_type": "stream",
     "text": [
      "Hello, John!\n"
     ]
    }
   ],
   "source": [
    "message = greeting(\"John\")\n",
    "print(message)"
   ]
  },
  {
   "cell_type": "code",
   "execution_count": 3,
   "id": "25eccc24-5306-4fba-8bcb-3cf4a7c0ceda",
   "metadata": {},
   "outputs": [
    {
     "name": "stdout",
     "output_type": "stream",
     "text": [
      "Hello, 123.456!\n"
     ]
    }
   ],
   "source": [
    "# Notice float 123.456 is converted to string type\n",
    "message = greeting(123.456)\n",
    "print(message)"
   ]
  },
  {
   "cell_type": "markdown",
   "id": "420121ba-3485-4db4-8f8c-be8a33a0897e",
   "metadata": {},
   "source": [
    "### 2. Type Hints for Collections\n",
    "\n",
    "For collections like `list`, `tuple`, `set`, `dict`, etc. you can specify the type of elements within.\n",
    "\n",
    "In the example:\n",
    "- `get_names` return a list of string (`List[str]`).\n",
    "- `get_ages` return a dictionary where the keys are strings and the values are integers (`Dict[str, int]`)."
   ]
  },
  {
   "cell_type": "code",
   "execution_count": 4,
   "id": "6c4a9d17-a428-44b0-a4a1-76acd31e98e9",
   "metadata": {},
   "outputs": [],
   "source": [
    "from typing import List, Dict\n",
    "\n",
    "def get_names() -> List[str]:\n",
    "    return [\"Alice\", \"Bob\", \"Charlie\"]\n",
    "\n",
    "def get_ages() -> Dict[str, int]:\n",
    "    return {\"Alice\": 25, \"Bob\": 30, \"Charlie\": 35}"
   ]
  },
  {
   "cell_type": "code",
   "execution_count": 5,
   "id": "101142bd-1a8a-406d-b20b-5e086f8e3e93",
   "metadata": {},
   "outputs": [
    {
     "name": "stdout",
     "output_type": "stream",
     "text": [
      "['Alice', 'Bob', 'Charlie']\n",
      "\n",
      "{'Alice': 25, 'Bob': 30, 'Charlie': 35}\n"
     ]
    }
   ],
   "source": [
    "print(get_names())\n",
    "print()\n",
    "print(get_ages())"
   ]
  },
  {
   "cell_type": "markdown",
   "id": "78a42652-c037-4304-8a9a-cccc7658ac39",
   "metadata": {},
   "source": [
    "### 3. Optional and Union Types\n",
    "\n",
    "---\n",
    "```\n",
    "# Optional Types\n",
    "from typing import Optional\n",
    "\n",
    "# Union Types\n",
    "from typing import Union\n",
    "```\n",
    "---\n",
    "\n",
    "- `Optional` is used when a variable or return type can be `None`.\n",
    "- `Union` is used when a variable or return type could be one of the multiple types\n",
    "\n",
    "In the example:\n",
    "- `find_item` might return a `str` or `None`, hence `Optional[str]`.\n",
    "- `add` can accept and return either `int` or `float`, hence `Union[int, float]`."
   ]
  },
  {
   "cell_type": "code",
   "execution_count": 6,
   "id": "46d42863-bb84-4f72-959a-6029fe676f3d",
   "metadata": {},
   "outputs": [],
   "source": [
    "from typing import Optional, Union\n",
    "\n",
    "def find_item(name: str) -> Optional[str]:\n",
    "    items = {\"item1\": \"Laptop\", \"item2\": \"Phone\"}\n",
    "    if name:\n",
    "        return items.get(name)\n",
    "    else:\n",
    "        return None\n",
    "\n",
    "def add(\n",
    "    x: Union[int, float], \n",
    "    y: Union[int, float]) -> Union[int, float]:\n",
    "    return x + y"
   ]
  },
  {
   "cell_type": "code",
   "execution_count": 7,
   "id": "419a908f-65ed-4731-ad9c-6867ac48147d",
   "metadata": {},
   "outputs": [
    {
     "name": "stdout",
     "output_type": "stream",
     "text": [
      "find_item = None\n",
      "find_item = Phone\n",
      "\n",
      "add = 2\n",
      "add = 3.0\n"
     ]
    }
   ],
   "source": [
    "print(f\"find_item = {find_item('')}\")\n",
    "print(f\"find_item = {find_item('item2')}\")\n",
    "\n",
    "print()\n",
    "\n",
    "print(f\"add = {add(1, 1)}\")\n",
    "print(f\"add = {add(2.0, 1)}\")"
   ]
  },
  {
   "cell_type": "markdown",
   "id": "fce00af7-c82c-4da9-bdde-430cc7251873",
   "metadata": {},
   "source": [
    "### 4. Type Aliases\n",
    "\n",
    "Type aliases can improve readability by defining custom names for complex types.\n",
    "\n",
    "In the example:\n",
    "- `Coordinate` is defined as `Tuple[float, float]`, and `Path` as `List[Coordinate]`. Now `Path` can be reused instead of typing out `List[Tuple[float, float]]` multiple times."
   ]
  },
  {
   "cell_type": "code",
   "execution_count": 8,
   "id": "6b4d6238-c841-45b5-8ed2-add9eaf9227b",
   "metadata": {},
   "outputs": [],
   "source": [
    "from typing import List, Tuple\n",
    "import math\n",
    "\n",
    "Coordinate = Tuple[float, float]\n",
    "Path = List[Coordinate]\n",
    "\n",
    "def calculate_distance(path: Path) -> float:\n",
    "    total_distance = 0.0\n",
    "    \n",
    "    # Loop through pairs of consecutive coordinates\n",
    "    for i in range(1, len(path)):\n",
    "        x1, y1 = path[i - 1]\n",
    "        x2, y2 = path[i]\n",
    "        \n",
    "        # Calculate the Euclidean distance between each consecutive point\n",
    "        distance = math.sqrt((x2 - x1) ** 2 + (y2 - y1) ** 2)\n",
    "        total_distance += distance\n",
    "    \n",
    "    return total_distance"
   ]
  },
  {
   "cell_type": "code",
   "execution_count": 9,
   "id": "6436e5d3-cea5-4359-bdd1-1ed3ebd23bce",
   "metadata": {},
   "outputs": [
    {
     "name": "stdout",
     "output_type": "stream",
     "text": [
      "Distance = 2.8284271247461903\n"
     ]
    }
   ],
   "source": [
    "cords = [(1, 2), (3, 4)]\n",
    "\n",
    "print(f\"Distance = {calculate_distance (cords)}\")"
   ]
  },
  {
   "cell_type": "markdown",
   "id": "653aa655-c0ce-4daf-b1ec-f322771e561f",
   "metadata": {},
   "source": [
    "### 4. Optional Static Type Checking\n",
    "\n",
    "- **PEP 484** introduced optional type hints, meaning type hints don’t affect runtime and are entirely optional.\n",
    "- Type checking can be performed using external tools like **mypy**, **pyright**, etc."
   ]
  },
  {
   "cell_type": "markdown",
   "id": "6864cd06-a48e-4397-b3a0-1e6274949c7e",
   "metadata": {},
   "source": [
    "### 5. Forward References\n",
    "- Self-referential or mutually referential types, **PEP 484** allows using forward references by placing the type in quotes."
   ]
  },
  {
   "cell_type": "code",
   "execution_count": 10,
   "id": "3cce3f47-4147-451b-81d4-a0d42715bf90",
   "metadata": {},
   "outputs": [],
   "source": [
    "from typing import Optional\n",
    "\n",
    "class Node:\n",
    "    def __init__(self, value: int, next_node: Optional[\"Node\"] = None):\n",
    "        self.value = value\n",
    "        self.next_node = next_node"
   ]
  },
  {
   "cell_type": "markdown",
   "id": "ffe6061a-5123-4598-b037-01c9432e4bb7",
   "metadata": {},
   "source": [
    "### 6. Type Hints for Dynamic and Complex Situations\n",
    "\n",
    "Type hints are versatile and able to handle complex coding scenarios.\n",
    "\n",
    "---\n",
    "```\n",
    "from typing import Generic, TypeVar\n",
    "from typing import Callable\n",
    "```\n",
    "---\n",
    "\n"
   ]
  },
  {
   "cell_type": "code",
   "execution_count": 11,
   "id": "d3ce4bee-f2b9-41a1-9eeb-7e956fe78329",
   "metadata": {},
   "outputs": [],
   "source": [
    "from typing import Generic, TypeVar\n",
    "from typing import Callable\n",
    "\n",
    "T = TypeVar('T')\n",
    "\n",
    "class Container(Generic[T]):\n",
    "    def __init__(self, value: T) -> None:\n",
    "        self.value = value"
   ]
  },
  {
   "cell_type": "markdown",
   "id": "ea4d3ed1-ef3a-479d-98e1-5facf8731660",
   "metadata": {},
   "source": [
    "This is a complex example. Let's go through this code step-by-step to understand what each part does.\n",
    "\n",
    "**TypeVar and Generic:**\n",
    "- `TypeVar('T')`: `T` is a type variable, which allows us to create generic types. In this case, `T` can represent any data type, such as `int`, `str`, `float` etc.\n",
    "- `Generic[T]`: Makes `Container` a generic class that can store any type `T`. This means we can create `Container[int]`, `Container[str]`, or any other specific type, depending on what we want to store.\n",
    "- `class Container(Generic[T])`: This defines a generic class Container that can hold a value of any type specified by `T`.\n",
    "- `__init__(self, value: T)`: The constructor method (`__init__`) takes an argument value of type `T` and assigns it to the instance variable `self.value`.\n",
    "- By using `T`, we can make `Container` flexible enough to hold values of any data type, and type checkers will enforce that the stored type matches the specified `T`."
   ]
  },
  {
   "cell_type": "code",
   "execution_count": 12,
   "id": "6cf06d0d-97b7-4ebc-b0bf-c48aa036b701",
   "metadata": {},
   "outputs": [],
   "source": [
    "# Example Usage:\n",
    "\n",
    "# T is inferred as int\n",
    "int_container = Container(42)\n",
    "\n",
    "# T is inferred as int\n",
    "str_container = Container(\"hello\")"
   ]
  },
  {
   "cell_type": "markdown",
   "id": "0983b8ce-b218-44f3-a46f-4068d72d701b",
   "metadata": {},
   "source": [
    "Next, let's look at the `execute_function` function:\n",
    "\n",
    "**Function Type Hints:**\n",
    "- `Callable[[int], str]`: The `func` parameter is expected to be a callable (a function) that takes a single `int` argument and returns a `str`.\n",
    "- `value: int`: The `value` parameter is an integer.\n",
    "\n",
    "**Function Execution:**\n",
    "- `func(value)`: This calls `func` with the argument value, which is expected to be an integer.\n",
    "- `-> str`: This specifies that `execute_function` returns a `str`, which is the result of calling `func(value)`."
   ]
  },
  {
   "cell_type": "code",
   "execution_count": 13,
   "id": "3ddfc6df-5942-430d-adae-a7a4c5c1f2ed",
   "metadata": {},
   "outputs": [],
   "source": [
    "def execute_function(func: Callable[[int], str], value: int) -> str:\n",
    "    return func(value)"
   ]
  },
  {
   "cell_type": "code",
   "execution_count": 14,
   "id": "a8a69d2f-2f3a-45bc-b215-7fae32db538c",
   "metadata": {},
   "outputs": [
    {
     "name": "stdout",
     "output_type": "stream",
     "text": [
      "The number is 10\n"
     ]
    }
   ],
   "source": [
    "# Example Usage:\n",
    "\n",
    "def int_to_str(x: int) -> str:\n",
    "    return f\"The number is {x}\"\n",
    "\n",
    "result = execute_function(int_to_str, 10)\n",
    "\n",
    "# The number is 10\n",
    "print(result)  "
   ]
  },
  {
   "cell_type": "markdown",
   "id": "832fce77-7ac5-4483-9c0c-03f77b905384",
   "metadata": {},
   "source": [
    "### 7. Backward Compatability\n",
    "\n",
    "**PEP 484** was designed to be backward  compatible, meaning adding type hints doesn't change the behaviour of code at runtime.\n",
    "\n",
    "In short, **PEP 484** introduced a powerful and flexible way to improve the clarity and robustness of Python code without affecting its runtime behaviour."
   ]
  },
  {
   "cell_type": "markdown",
   "id": "cfbcf456-e75b-43b6-8f03-27b28efd4926",
   "metadata": {},
   "source": [
    "### Summary Of Python Type Hints\n",
    "\n",
    "It is not mandatory to use type hints in every Python project. But it is recommended for larger and more complex projects to improve readability and maintainability.\n",
    "\n",
    "Type hints are only used during development and do not affect the runtime performance of your code.\n",
    "\n",
    "Type hints are not created to replace docstrings. Type hints complement docstring. Docstring provide a description of what the function does, its parameters, and its return type, while type hints provide a clear and concise way to indicate the types of parameters and return values."
   ]
  },
  {
   "cell_type": "markdown",
   "id": "34a1121d-061d-4091-bdc4-d7c6d487c6a0",
   "metadata": {},
   "source": [
    "---"
   ]
  },
  {
   "cell_type": "markdown",
   "id": "88bf4f79-b5e1-4f71-9b72-4a6354c2d301",
   "metadata": {},
   "source": [
    "## Data Classes\n",
    "Data classes were introduced as a convenient way to create classes that are used to store data. Data class automatically generate methods like `__init__()`, `__repr__()` and `__eq__()`. This feature aligns perfectly to make type-safe code easier to write. By using data classes, we can define a class with specific types for its fields while writing less code than we would with a traditional class definition.\n",
    "\n",
    "Python is a **[duck-typed language](https://docs.python.org/3/glossary.html#term-duck-typing)**. A programming style called duck typing means that the type of an object is determined by what it can do, rather than what it is. This concept comes from the saying, \"If it looks like a duck and quacks like a duck, then it's probably a duck.\".\n",
    "\n",
    "Key Points about Duck Typing:\n",
    "- Instead of checking an object's type, Python checks if the object has the methods or properties needed for a specific task. For instance, if you want to call a method on an object, Python will simply try to call it without verifying the object's type first.\n",
    "- This approach allows for writing more flexible code that can work with different types of objects as long as they behave in the expected way. For example, if both a Duck and a Person class have a method called sound, you can use either one interchangeably in your code.\n",
    "- Since Python doesn't check types until the code runs, this can sometimes lead to errors if an object doesn't have the expected methods. However, it also makes the code easier to write and adapt."
   ]
  },
  {
   "cell_type": "code",
   "execution_count": 15,
   "id": "f7031402-3bf1-4971-be1f-73db9deda002",
   "metadata": {},
   "outputs": [],
   "source": [
    "from dataclasses import dataclass\n",
    "\n",
    "@dataclass\n",
    "class Duck:\n",
    "    name: str\n",
    "    age: int\n",
    "\n",
    "    def quack(self):\n",
    "        print(f\"{self.name} says: Quack!\")"
   ]
  },
  {
   "cell_type": "code",
   "execution_count": 16,
   "id": "50af6042-ec9d-4c3c-a1a1-0661c0053239",
   "metadata": {},
   "outputs": [
    {
     "name": "stdout",
     "output_type": "stream",
     "text": [
      "Duck(name='Donald', age=5)\n",
      "Donald says: Quack!\n",
      "Daffy says: Quack!\n"
     ]
    }
   ],
   "source": [
    "donald = Duck(\"Donald\", 5)\n",
    "\n",
    "# Duck(name='Donald', age=5)\n",
    "print(donald)  \n",
    "\n",
    "# Donald says: Quack!\n",
    "donald.quack()  \n",
    "\n",
    "daffy = Duck(\"Daffy\", 3)\n",
    "\n",
    "daffy.quack()"
   ]
  },
  {
   "cell_type": "markdown",
   "id": "b00e43b3-363a-47a7-9d6b-3c01e745c27d",
   "metadata": {},
   "source": [
    "---"
   ]
  },
  {
   "cell_type": "markdown",
   "id": "d5be6003-1144-4c57-a2bc-bc6bfb49ea26",
   "metadata": {},
   "source": [
    "## Pydantic\n",
    "\n",
    "### Prerequisites:\n",
    "- Basic understanding of Python and type hints\n",
    "- Python 3.8 or above"
   ]
  },
  {
   "cell_type": "code",
   "execution_count": 17,
   "id": "a3029c6f-f940-49fa-80d1-5c0ea57e4d7d",
   "metadata": {},
   "outputs": [
    {
     "name": "stdout",
     "output_type": "stream",
     "text": [
      "2.10.3\n"
     ]
    }
   ],
   "source": [
    "# print module version(s)\n",
    "\n",
    "import pydantic\n",
    "\n",
    "print(pydantic.__version__)"
   ]
  },
  {
   "cell_type": "markdown",
   "id": "f75b8cce-2a76-418d-bca0-cf71f89b787f",
   "metadata": {},
   "source": [
    "### 1. Basic Model Definition\n",
    "\n",
    "In Pydantic, a BaseModel is used to define a model schema for data validation.\n",
    "\n",
    "In the example:\n",
    "- `User` is a simple data model with three attributes (`id`, `name` and `age`).\n",
    "- Each attribute has a type: id : int, name : string, age : int\n",
    "- Pydantic automatically validates that the data matches these types"
   ]
  },
  {
   "cell_type": "code",
   "execution_count": 18,
   "id": "03c4639b-4add-4461-aed5-170451f026bc",
   "metadata": {},
   "outputs": [
    {
     "name": "stdout",
     "output_type": "stream",
     "text": [
      "id=1 name='John' age=30\n"
     ]
    }
   ],
   "source": [
    "from pydantic import BaseModel\n",
    "\n",
    "class User(BaseModel):\n",
    "    id: int\n",
    "    name: str\n",
    "    age: int\n",
    "\n",
    "# Example usage\n",
    "user = User(id=1, name=\"John\", age=30)\n",
    "print(user)"
   ]
  },
  {
   "cell_type": "markdown",
   "id": "ee4aa856-424a-4610-b08f-1bc436317665",
   "metadata": {},
   "source": [
    "### 2. Validation with Types\n",
    "\n",
    "Pydantic ensures that the data conforms to the specified types. If the data doesn’t match, it raises an error.\n",
    "\n",
    "In the example:\n",
    "- An error is reported for `id` because the expected type is an integer but a string is passed in."
   ]
  },
  {
   "cell_type": "code",
   "execution_count": 19,
   "id": "b2e0f082-dab8-4246-a53b-47922d00250b",
   "metadata": {},
   "outputs": [
    {
     "name": "stdout",
     "output_type": "stream",
     "text": [
      "1 validation error for User\n",
      "id\n",
      "  Input should be a valid integer, unable to parse string as an integer [type=int_parsing, input_value='abc', input_type=str]\n",
      "    For further information visit https://errors.pydantic.dev/2.10/v/int_parsing\n"
     ]
    }
   ],
   "source": [
    "try:\n",
    "    user = User(id=\"abc\", name=\"Alice\", age=\"20\")  # Invalid data\n",
    "except ValueError as e:\n",
    "    print(e)"
   ]
  },
  {
   "cell_type": "markdown",
   "id": "264a1f9f-1961-4d89-814b-0b4906908399",
   "metadata": {},
   "source": [
    "### 3. Default Values and Optional Fields\n",
    "\n",
    "You can provide default values or mark fields as optional.\n",
    "\n",
    "In the example:\n",
    "- `description` of type `str` is optional and when not passed in, \"No description available\" is assigned to it"
   ]
  },
  {
   "cell_type": "code",
   "execution_count": 20,
   "id": "d3f7a9d1-8458-434c-8f4d-ca6da1f1b7d6",
   "metadata": {},
   "outputs": [
    {
     "name": "stdout",
     "output_type": "stream",
     "text": [
      "name='Laptop' price=1000.0 description='No description available'\n",
      "name='keyboard' price=20.0 description='Made in China'\n"
     ]
    }
   ],
   "source": [
    "from pydantic import BaseModel\n",
    "from typing import Optional\n",
    "\n",
    "class Product(BaseModel):\n",
    "    name: str\n",
    "    price: float\n",
    "\n",
    "    # Default value is \"No description available\"\n",
    "    description: Optional[str] = \"No description available\"  \n",
    "\n",
    "product = Product(name=\"Laptop\", price=1000.00)\n",
    "print(product)\n",
    "\n",
    "# compare with:\n",
    "product = Product(name=\"keyboard\", price=20.00, description=\"Made in China\")\n",
    "print(product)"
   ]
  },
  {
   "cell_type": "markdown",
   "id": "7fed18b8-4007-48e2-ac76-27489fef49a2",
   "metadata": {},
   "source": [
    "### 4. Custom Validators\n",
    "\n",
    "Pydantic v2 allows you to create custom validators with decorators for more complex validation.\n",
    "\n",
    "In the example:\n",
    "- `quantity`: An integer that must be greater than 0, validated using `Field(gt=0)`\n",
    "- `price_per_item`: A float value that is validated using a custom validator\n",
    "- The custom validator for `price_per_item` is defined using the `@field_validator` decorator"
   ]
  },
  {
   "cell_type": "code",
   "execution_count": 21,
   "id": "bff60719-06e8-45ea-b6cf-ee77cff9edaa",
   "metadata": {},
   "outputs": [
    {
     "name": "stdout",
     "output_type": "stream",
     "text": [
      "quantity=5 price_per_item=20.0\n"
     ]
    }
   ],
   "source": [
    "from pydantic import BaseModel, Field, field_validator\n",
    "\n",
    "class Order(BaseModel):\n",
    "    quantity: int = Field(gt=0)  # Ensure quantity is greater than 0\n",
    "    price_per_item: float\n",
    "\n",
    "    @field_validator(\"price_per_item\")\n",
    "    def check_price(cls, value):\n",
    "        if value <= 0:\n",
    "            raise ValueError(\"Price per item must be positive\")\n",
    "        return value\n",
    "\n",
    "order = Order(quantity=5, price_per_item=20.0)\n",
    "print(order)"
   ]
  },
  {
   "cell_type": "markdown",
   "id": "bdfaf63c-31c9-4361-ba6b-a6715e8b5638",
   "metadata": {},
   "source": [
    "In the example:\n",
    "- `validator`: A decorator from Pydantic that allows defining custom validation logic for specific fields\n",
    "- `User`: Defines a Pydantic model called `User` with one attribute, `name`, which is a required field of type `str`.\n",
    "- `name`: str: Declares that `name` must be a string. By default, this field is required, meaning it must be provided when creating a User instance.\n",
    "- `@field_validator('name')`: This decorator specifies that the following method is a validator for the name field.\n",
    "- `name_must_not_be_empty(cls, v)`: The custom validator function. It takes two parameters:\n",
    "  - `cls`: The class itself (used in validators for referencing the class if needed).\n",
    "  - `v`: The value of the field being validated (`name` in this case).\n",
    "  - `if not v`: Checks if the value of `name` is empty or evaluates to `False`.\n",
    "  - `raise ValueError('Name must not be empty')`: If the check fails (i.e., `name` is empty), this line raises a `ValueError` with a custom error message.\n",
    "  - `return v`: If the value is valid, the function returns it unchanged."
   ]
  },
  {
   "cell_type": "code",
   "execution_count": 22,
   "id": "1c346907-48a5-489d-a15f-f2a030a98d92",
   "metadata": {},
   "outputs": [],
   "source": [
    "from pydantic import validator\n",
    "\n",
    "class User(BaseModel):\n",
    "    name: str\n",
    "    \n",
    "    @field_validator('name')\n",
    "    def name_must_not_be_empty(cls, v):\n",
    "        if not v:\n",
    "            raise ValueError('Name must not be empty')\n",
    "        return v"
   ]
  },
  {
   "cell_type": "code",
   "execution_count": 23,
   "id": "eb85ddc3-24f0-4447-9484-45f3c22c28e8",
   "metadata": {},
   "outputs": [
    {
     "name": "stdout",
     "output_type": "stream",
     "text": [
      "name='John'\n"
     ]
    }
   ],
   "source": [
    "u1 = User(name=\"John\")\n",
    "\n",
    "# name='John'\n",
    "print(u1)"
   ]
  },
  {
   "cell_type": "code",
   "execution_count": 24,
   "id": "7bf2abbc-bf31-4c11-9723-101cd64b685c",
   "metadata": {},
   "outputs": [
    {
     "name": "stdout",
     "output_type": "stream",
     "text": [
      "1 validation error for User\n",
      "name\n",
      "  Field required [type=missing, input_value={}, input_type=dict]\n",
      "    For further information visit https://errors.pydantic.dev/2.10/v/missing\n"
     ]
    }
   ],
   "source": [
    "# Validation error\n",
    "\n",
    "try:\n",
    "    u2 = User()\n",
    "    print(u2)\n",
    "except ValueError as e:\n",
    "    print(e)"
   ]
  },
  {
   "cell_type": "markdown",
   "id": "568c465f-0d62-4342-b00c-3a84c896f4b8",
   "metadata": {},
   "source": [
    "### 5. Nested Models\n",
    "\n",
    "Pydantic supports nested models, which can be useful for complex data structures.\n",
    "\n",
    "In the example:\n",
    "- Demonstrates model composition/nesting in Pydantic\n",
    "- Note that even though address is an `Address` model, you can pass a dictionary and Pydantic will automatically convert it to an Address instance.\n",
    "- Automatic validation of nested structures\n",
    "- Type checking for all fields (both top-level and nested)"
   ]
  },
  {
   "cell_type": "code",
   "execution_count": 25,
   "id": "e71e006e-4604-453d-b0c4-dcc1dc5e24f8",
   "metadata": {},
   "outputs": [
    {
     "name": "stdout",
     "output_type": "stream",
     "text": [
      "name='Jane' age=28 address=Address(city='Singapore', country='Singapore')\n"
     ]
    }
   ],
   "source": [
    "from pydantic import BaseModel\n",
    "\n",
    "class Address(BaseModel):\n",
    "    city: str\n",
    "    country: str\n",
    "\n",
    "class Person(BaseModel):\n",
    "    name: str\n",
    "    age: int\n",
    "\n",
    "    # Nested model\n",
    "    address: Address  \n",
    "\n",
    "person = Person(\n",
    "    name=\"Jane\",\n",
    "    age=28,\n",
    "    address={\"city\": \"Singapore\", \"country\": \"Singapore\"}\n",
    ")\n",
    "\n",
    "print(person)"
   ]
  },
  {
   "cell_type": "markdown",
   "id": "5ae595b5-5d41-4209-87df-1ef95f4afaac",
   "metadata": {},
   "source": [
    "### 6. Data Serialization\n",
    "\n",
    "Easily serialize models to JSON."
   ]
  },
  {
   "cell_type": "code",
   "execution_count": 26,
   "id": "8f05f1c4-0391-4b66-8525-06e35284844d",
   "metadata": {},
   "outputs": [
    {
     "name": "stdout",
     "output_type": "stream",
     "text": [
      "{\"name\":\"Jane\",\"age\":28,\"address\":{\"city\":\"Singapore\",\"country\":\"Singapore\"}}\n"
     ]
    },
    {
     "name": "stderr",
     "output_type": "stream",
     "text": [
      "C:\\Users\\koay_seng_tian\\AppData\\Local\\Temp\\ipykernel_25672\\1007543891.py:3: PydanticDeprecatedSince20: The `json` method is deprecated; use `model_dump_json` instead. Deprecated in Pydantic V2.0 to be removed in V3.0. See Pydantic V2 Migration Guide at https://errors.pydantic.dev/2.10/migration/\n",
      "  print(person.json())\n"
     ]
    }
   ],
   "source": [
    "# Convert to JSON\n",
    "\n",
    "print(person.json())  "
   ]
  },
  {
   "cell_type": "markdown",
   "id": "5826b9d6-52f5-498e-b5e7-46a0702ddff1",
   "metadata": {},
   "source": [
    "### 7. Parsing and Validation\n",
    "\n",
    "Pydantic can parse and validate data from various sources, such as dictionaries or JSON strings."
   ]
  },
  {
   "cell_type": "code",
   "execution_count": 27,
   "id": "d2418619-e477-464c-bb9e-02b123ff531d",
   "metadata": {},
   "outputs": [
    {
     "name": "stdout",
     "output_type": "stream",
     "text": [
      "name='John'\n"
     ]
    }
   ],
   "source": [
    "data = {\"id\": 10, \"name\": \"John\", \"age\": 25}\n",
    "\n",
    "# Parse and validate from a dictionary\n",
    "user = User.model_validate(data)\n",
    "\n",
    "print(user)"
   ]
  },
  {
   "cell_type": "markdown",
   "id": "78d23bff-72ef-4d70-aad7-3ef22dfccf86",
   "metadata": {},
   "source": [
    "## Advanced Features\n",
    "\n",
    "### Configuring Models\n",
    "\n",
    "You can configure models to control things like allowing extra fields, strict type checking, and more."
   ]
  },
  {
   "cell_type": "code",
   "execution_count": 28,
   "id": "c75d941d-0aa2-4dff-ad64-471426c599b0",
   "metadata": {},
   "outputs": [
    {
     "name": "stdout",
     "output_type": "stream",
     "text": [
      "1 validation error for ConfiguredUser\n",
      "extra_field\n",
      "  Extra inputs are not permitted [type=extra_forbidden, input_value='unexpected', input_type=str]\n",
      "    For further information visit https://errors.pydantic.dev/2.10/v/extra_forbidden\n"
     ]
    }
   ],
   "source": [
    "from pydantic import BaseModel\n",
    "\n",
    "class ConfiguredUser(BaseModel):\n",
    "    name: str\n",
    "\n",
    "    class Config:\n",
    "        extra = \"forbid\"  # Forbid extra fields\n",
    "\n",
    "try:\n",
    "    user = ConfiguredUser(name=\"John\", extra_field=\"unexpected\")\n",
    "except ValueError as e:\n",
    "    print(e)  # Will raise an error"
   ]
  },
  {
   "cell_type": "markdown",
   "id": "95f7a66d-6370-46ae-98f2-ea87b6ce1ad2",
   "metadata": {},
   "source": [
    "### Using Union Type\n",
    "\n",
    "Pydantic supports Union types to allow a field to accept multiple types."
   ]
  },
  {
   "cell_type": "code",
   "execution_count": 29,
   "id": "d9ee0266-866d-4128-8564-cb7b20b5b217",
   "metadata": {},
   "outputs": [
    {
     "name": "stdout",
     "output_type": "stream",
     "text": [
      "name='Item A' quantity=5\n",
      "name='Item B' quantity='Five'\n"
     ]
    }
   ],
   "source": [
    "from pydantic import BaseModel\n",
    "from typing import Union\n",
    "\n",
    "class Item(BaseModel):\n",
    "    name: str\n",
    "    quantity: Union[int, str]  # Allows int or str\n",
    "\n",
    "item1 = Item(name=\"Item A\", quantity=5)\n",
    "item2 = Item(name=\"Item B\", quantity=\"Five\")\n",
    "print(item1)\n",
    "print(item2)"
   ]
  },
  {
   "cell_type": "markdown",
   "id": "82f76f8b-4a7b-40fa-a5d9-99f8f38e0fcf",
   "metadata": {},
   "source": [
    "## Summary\n",
    "\n",
    "This tutorial covered the basic of:\n",
    "- Defining models\n",
    "- Field validation\n",
    "- Nest models\n",
    "- Custom validators\n",
    "- Parsing and serializing data\n",
    "\n",
    "The tutorial does not cover all the possible features of the library, but it provides a solid foundation to get started with Pydantic. As you become more comfortable with the basics, you can explore additional features, such as custom root validators, advanced data types and configurations for more control over model behavior. These features allow you to handle even more complex validation scenarios and fine-tune data handling to fit your specific application needs."
   ]
  },
  {
   "cell_type": "code",
   "execution_count": null,
   "id": "c9bcb852-9ab3-4116-af19-c0ef3c28a126",
   "metadata": {},
   "outputs": [],
   "source": []
  }
 ],
 "metadata": {
  "kernelspec": {
   "display_name": "Python 3 (ipykernel)",
   "language": "python",
   "name": "python3"
  },
  "language_info": {
   "codemirror_mode": {
    "name": "ipython",
    "version": 3
   },
   "file_extension": ".py",
   "mimetype": "text/x-python",
   "name": "python",
   "nbconvert_exporter": "python",
   "pygments_lexer": "ipython3",
   "version": "3.9.20"
  }
 },
 "nbformat": 4,
 "nbformat_minor": 5
}
